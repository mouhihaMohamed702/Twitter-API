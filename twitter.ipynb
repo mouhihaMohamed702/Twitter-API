{
 "cells": [
  {
   "cell_type": "code",
   "execution_count": 9,
   "id": "37a36019",
   "metadata": {},
   "outputs": [],
   "source": [
    "conumer_key=\"3scFt2Ublxc1ycXlXsWhyBXNa\"\n",
    "consumer_secret=\"RkGQ8sRcaaRqH0eMHDiUW6daSMzi1blPqFyPG9cg0RNJZghlG5\"\n",
    "access_token=\"1571083252407963648-c5xsbwioSHKCL16o8nfBuTwwRJujaA\"\n",
    "access_token_secret=\"jOkuXa1MuuZX0NHGloogpNTkcQcX7RWsPVv5MkX4dRVCP\""
   ]
  },
  {
   "cell_type": "code",
   "execution_count": 10,
   "id": "b0ac623b",
   "metadata": {},
   "outputs": [],
   "source": [
    "import tweepy\n",
    "import pandas as pd"
   ]
  },
  {
   "cell_type": "code",
   "execution_count": 11,
   "id": "ca20661a",
   "metadata": {},
   "outputs": [],
   "source": [
    "auth=tweepy.OAuthHandler(conumer_key,consumer_secret)\n",
    "auth.set_access_token(access_token,access_token_secret)\n",
    "api=tweepy.API(auth)\n",
    "username = 'Hespress'"
   ]
  },
  {
   "cell_type": "code",
   "execution_count": 12,
   "id": "a59c5430",
   "metadata": {},
   "outputs": [],
   "source": [
    "cursor=tweepy.Cursor(api.user_timeline,id=username,tweet_mode=\"extended\").items(15)+"
   ]
  },
  {
   "cell_type": "code",
   "execution_count": 13,
   "id": "19454997",
   "metadata": {},
   "outputs": [
    {
     "name": "stderr",
     "output_type": "stream",
     "text": [
      "Unexpected parameter: id\n"
     ]
    },
    {
     "name": "stdout",
     "output_type": "stream",
     "text": [
      "{'created_at': 'Sun Oct 02 22:45:27 +0000 2022', 'id': 1576704944266432512, 'id_str': '1576704944266432512', 'full_text': 'أكد أمجد أميني، والد الإيرانية #مهسا_أميني التي توفيت أثناء احتجاز “#شرطة_الأخلاق” لها، أنه لم يحصل حتى الآن على السجلات الرسمية الخاصة بالقضية.\\nوقدم #الرئيس_الإيراني إبراهيم رئيسي وعدا لأميني بإجراء تحقيق في وفاة ابنته، “ولكن حتى الآن لم يحدث أي شيء” وفق رب الأسرة المكلوم. https://t.co/nZLY2Gqu0C', 'truncated': False, 'display_text_range': [0, 274], 'entities': {'hashtags': [{'text': 'مهسا_أميني', 'indices': [31, 42]}, {'text': 'شرطة_الأخلاق', 'indices': [68, 81]}, {'text': 'الرئيس_الإيراني', 'indices': [150, 166]}], 'symbols': [], 'user_mentions': [], 'urls': [], 'media': [{'id': 1576704913777852417, 'id_str': '1576704913777852417', 'indices': [275, 298], 'media_url': 'http://pbs.twimg.com/media/FeGUw-1XgAEJXe9.jpg', 'media_url_https': 'https://pbs.twimg.com/media/FeGUw-1XgAEJXe9.jpg', 'url': 'https://t.co/nZLY2Gqu0C', 'display_url': 'pic.twitter.com/nZLY2Gqu0C', 'expanded_url': 'https://twitter.com/hespress/status/1576704944266432512/photo/1', 'type': 'photo', 'sizes': {'thumb': {'w': 150, 'h': 150, 'resize': 'crop'}, 'small': {'w': 680, 'h': 680, 'resize': 'fit'}, 'medium': {'w': 1080, 'h': 1080, 'resize': 'fit'}, 'large': {'w': 1080, 'h': 1080, 'resize': 'fit'}}}]}, 'extended_entities': {'media': [{'id': 1576704913777852417, 'id_str': '1576704913777852417', 'indices': [275, 298], 'media_url': 'http://pbs.twimg.com/media/FeGUw-1XgAEJXe9.jpg', 'media_url_https': 'https://pbs.twimg.com/media/FeGUw-1XgAEJXe9.jpg', 'url': 'https://t.co/nZLY2Gqu0C', 'display_url': 'pic.twitter.com/nZLY2Gqu0C', 'expanded_url': 'https://twitter.com/hespress/status/1576704944266432512/photo/1', 'type': 'photo', 'sizes': {'thumb': {'w': 150, 'h': 150, 'resize': 'crop'}, 'small': {'w': 680, 'h': 680, 'resize': 'fit'}, 'medium': {'w': 1080, 'h': 1080, 'resize': 'fit'}, 'large': {'w': 1080, 'h': 1080, 'resize': 'fit'}}}]}, 'source': '<a href=\"https://mobile.twitter.com\" rel=\"nofollow\">Twitter Web App</a>', 'in_reply_to_status_id': None, 'in_reply_to_status_id_str': None, 'in_reply_to_user_id': None, 'in_reply_to_user_id_str': None, 'in_reply_to_screen_name': None, 'user': {'id': 109556877, 'id_str': '109556877', 'name': 'Hespress هسبريس', 'screen_name': 'hespress', 'location': 'المغرب', 'description': 'أول جريدة إلكترونية مغربية تتجدد على مدار الساعة\\n@hespressfr', 'url': 'https://t.co/lCxuKeJ9hC', 'entities': {'url': {'urls': [{'url': 'https://t.co/lCxuKeJ9hC', 'expanded_url': 'http://www.hespress.com', 'display_url': 'hespress.com', 'indices': [0, 23]}]}, 'description': {'urls': []}}, 'protected': False, 'followers_count': 2588617, 'friends_count': 9550, 'listed_count': 1058, 'created_at': 'Fri Jan 29 13:17:51 +0000 2010', 'favourites_count': 712, 'utc_offset': None, 'time_zone': None, 'geo_enabled': False, 'verified': True, 'statuses_count': 251591, 'lang': None, 'contributors_enabled': False, 'is_translator': False, 'is_translation_enabled': False, 'profile_background_color': 'C7DAFC', 'profile_background_image_url': 'http://abs.twimg.com/images/themes/theme1/bg.png', 'profile_background_image_url_https': 'https://abs.twimg.com/images/themes/theme1/bg.png', 'profile_background_tile': False, 'profile_image_url': 'http://pbs.twimg.com/profile_images/1369332051430768648/hFC-oD6t_normal.jpg', 'profile_image_url_https': 'https://pbs.twimg.com/profile_images/1369332051430768648/hFC-oD6t_normal.jpg', 'profile_banner_url': 'https://pbs.twimg.com/profile_banners/109556877/1652017364', 'profile_link_color': '2F84CD', 'profile_sidebar_border_color': 'FFFFFF', 'profile_sidebar_fill_color': 'DDEEF6', 'profile_text_color': '333333', 'profile_use_background_image': False, 'has_extended_profile': False, 'default_profile': False, 'default_profile_image': False, 'following': True, 'follow_request_sent': False, 'notifications': False, 'translator_type': 'regular', 'withheld_in_countries': []}, 'geo': None, 'coordinates': None, 'place': None, 'contributors': None, 'is_quote_status': False, 'retweet_count': 2, 'favorite_count': 11, 'favorited': False, 'retweeted': False, 'possibly_sensitive': False, 'lang': 'ar'}\n",
      "{'created_at': 'Sun Oct 02 22:32:58 +0000 2022', 'id': 1576701805852954625, 'id_str': '1576701805852954625', 'full_text': 'كان من المنتظر أن يحل #فرحات_مهني “رئيس جمهورية القبايل”، اليوم الأحد، ضيفا على نشرة الأخبار بقناة “#CNEWS”، قبل أن يقتحم مسؤول من القناة غرفة الانتظار معلنا إلغاء المقابلة، حيث يرجع ذلك، حسب مصادر، إلى تدخل “يانيك بولوريه” شخصيا، بناء على اتصال من الرئيس الفرنسي #ماكرون. https://t.co/B9d2Dxabsj', 'truncated': False, 'display_text_range': [0, 272], 'entities': {'hashtags': [{'text': 'فرحات_مهني', 'indices': [22, 33]}, {'text': 'CNEWS', 'indices': [100, 106]}, {'text': 'ماكرون', 'indices': [264, 271]}], 'symbols': [], 'user_mentions': [], 'urls': [], 'media': [{'id': 1576701795639902208, 'id_str': '1576701795639902208', 'indices': [273, 296], 'media_url': 'http://pbs.twimg.com/media/FeGR7e3WQAAi12e.jpg', 'media_url_https': 'https://pbs.twimg.com/media/FeGR7e3WQAAi12e.jpg', 'url': 'https://t.co/B9d2Dxabsj', 'display_url': 'pic.twitter.com/B9d2Dxabsj', 'expanded_url': 'https://twitter.com/hespress/status/1576701805852954625/photo/1', 'type': 'photo', 'sizes': {'small': {'w': 680, 'h': 680, 'resize': 'fit'}, 'thumb': {'w': 150, 'h': 150, 'resize': 'crop'}, 'large': {'w': 1080, 'h': 1080, 'resize': 'fit'}, 'medium': {'w': 1080, 'h': 1080, 'resize': 'fit'}}}]}, 'extended_entities': {'media': [{'id': 1576701795639902208, 'id_str': '1576701795639902208', 'indices': [273, 296], 'media_url': 'http://pbs.twimg.com/media/FeGR7e3WQAAi12e.jpg', 'media_url_https': 'https://pbs.twimg.com/media/FeGR7e3WQAAi12e.jpg', 'url': 'https://t.co/B9d2Dxabsj', 'display_url': 'pic.twitter.com/B9d2Dxabsj', 'expanded_url': 'https://twitter.com/hespress/status/1576701805852954625/photo/1', 'type': 'photo', 'sizes': {'small': {'w': 680, 'h': 680, 'resize': 'fit'}, 'thumb': {'w': 150, 'h': 150, 'resize': 'crop'}, 'large': {'w': 1080, 'h': 1080, 'resize': 'fit'}, 'medium': {'w': 1080, 'h': 1080, 'resize': 'fit'}}}]}, 'source': '<a href=\"https://mobile.twitter.com\" rel=\"nofollow\">Twitter Web App</a>', 'in_reply_to_status_id': None, 'in_reply_to_status_id_str': None, 'in_reply_to_user_id': None, 'in_reply_to_user_id_str': None, 'in_reply_to_screen_name': None, 'user': {'id': 109556877, 'id_str': '109556877', 'name': 'Hespress هسبريس', 'screen_name': 'hespress', 'location': 'المغرب', 'description': 'أول جريدة إلكترونية مغربية تتجدد على مدار الساعة\\n@hespressfr', 'url': 'https://t.co/lCxuKeJ9hC', 'entities': {'url': {'urls': [{'url': 'https://t.co/lCxuKeJ9hC', 'expanded_url': 'http://www.hespress.com', 'display_url': 'hespress.com', 'indices': [0, 23]}]}, 'description': {'urls': []}}, 'protected': False, 'followers_count': 2588617, 'friends_count': 9550, 'listed_count': 1058, 'created_at': 'Fri Jan 29 13:17:51 +0000 2010', 'favourites_count': 712, 'utc_offset': None, 'time_zone': None, 'geo_enabled': False, 'verified': True, 'statuses_count': 251591, 'lang': None, 'contributors_enabled': False, 'is_translator': False, 'is_translation_enabled': False, 'profile_background_color': 'C7DAFC', 'profile_background_image_url': 'http://abs.twimg.com/images/themes/theme1/bg.png', 'profile_background_image_url_https': 'https://abs.twimg.com/images/themes/theme1/bg.png', 'profile_background_tile': False, 'profile_image_url': 'http://pbs.twimg.com/profile_images/1369332051430768648/hFC-oD6t_normal.jpg', 'profile_image_url_https': 'https://pbs.twimg.com/profile_images/1369332051430768648/hFC-oD6t_normal.jpg', 'profile_banner_url': 'https://pbs.twimg.com/profile_banners/109556877/1652017364', 'profile_link_color': '2F84CD', 'profile_sidebar_border_color': 'FFFFFF', 'profile_sidebar_fill_color': 'DDEEF6', 'profile_text_color': '333333', 'profile_use_background_image': False, 'has_extended_profile': False, 'default_profile': False, 'default_profile_image': False, 'following': True, 'follow_request_sent': False, 'notifications': False, 'translator_type': 'regular', 'withheld_in_countries': []}, 'geo': None, 'coordinates': None, 'place': None, 'contributors': None, 'is_quote_status': False, 'retweet_count': 30, 'favorite_count': 189, 'favorited': False, 'retweeted': False, 'possibly_sensitive': False, 'lang': 'ar'}\n",
      "{'created_at': 'Sun Oct 02 21:33:36 +0000 2022', 'id': 1576686865771814917, 'id_str': '1576686865771814917', 'full_text': 'إليكم نتائج مباريات اليوم من البطولة الوطنية ⚽ \\n#رياضة #كرة_القدم #مباريات_اليوم #البطولة_الاحترافية https://t.co/x9EnJUeSI3', 'truncated': False, 'display_text_range': [0, 100], 'entities': {'hashtags': [{'text': 'رياضة', 'indices': [48, 54]}, {'text': 'كرة_القدم', 'indices': [55, 65]}, {'text': 'مباريات_اليوم', 'indices': [66, 80]}, {'text': 'البطولة_الاحترافية', 'indices': [81, 100]}], 'symbols': [], 'user_mentions': [], 'urls': [], 'media': [{'id': 1576686853033525252, 'id_str': '1576686853033525252', 'indices': [101, 124], 'media_url': 'http://pbs.twimg.com/media/FeGEVtUXgAQfeyw.jpg', 'media_url_https': 'https://pbs.twimg.com/media/FeGEVtUXgAQfeyw.jpg', 'url': 'https://t.co/x9EnJUeSI3', 'display_url': 'pic.twitter.com/x9EnJUeSI3', 'expanded_url': 'https://twitter.com/hespress/status/1576686865771814917/photo/1', 'type': 'photo', 'sizes': {'small': {'w': 680, 'h': 680, 'resize': 'fit'}, 'medium': {'w': 1080, 'h': 1080, 'resize': 'fit'}, 'thumb': {'w': 150, 'h': 150, 'resize': 'crop'}, 'large': {'w': 1080, 'h': 1080, 'resize': 'fit'}}}]}, 'extended_entities': {'media': [{'id': 1576686853033525252, 'id_str': '1576686853033525252', 'indices': [101, 124], 'media_url': 'http://pbs.twimg.com/media/FeGEVtUXgAQfeyw.jpg', 'media_url_https': 'https://pbs.twimg.com/media/FeGEVtUXgAQfeyw.jpg', 'url': 'https://t.co/x9EnJUeSI3', 'display_url': 'pic.twitter.com/x9EnJUeSI3', 'expanded_url': 'https://twitter.com/hespress/status/1576686865771814917/photo/1', 'type': 'photo', 'sizes': {'small': {'w': 680, 'h': 680, 'resize': 'fit'}, 'medium': {'w': 1080, 'h': 1080, 'resize': 'fit'}, 'thumb': {'w': 150, 'h': 150, 'resize': 'crop'}, 'large': {'w': 1080, 'h': 1080, 'resize': 'fit'}}}]}, 'source': '<a href=\"https://mobile.twitter.com\" rel=\"nofollow\">Twitter Web App</a>', 'in_reply_to_status_id': None, 'in_reply_to_status_id_str': None, 'in_reply_to_user_id': None, 'in_reply_to_user_id_str': None, 'in_reply_to_screen_name': None, 'user': {'id': 109556877, 'id_str': '109556877', 'name': 'Hespress هسبريس', 'screen_name': 'hespress', 'location': 'المغرب', 'description': 'أول جريدة إلكترونية مغربية تتجدد على مدار الساعة\\n@hespressfr', 'url': 'https://t.co/lCxuKeJ9hC', 'entities': {'url': {'urls': [{'url': 'https://t.co/lCxuKeJ9hC', 'expanded_url': 'http://www.hespress.com', 'display_url': 'hespress.com', 'indices': [0, 23]}]}, 'description': {'urls': []}}, 'protected': False, 'followers_count': 2588617, 'friends_count': 9550, 'listed_count': 1058, 'created_at': 'Fri Jan 29 13:17:51 +0000 2010', 'favourites_count': 712, 'utc_offset': None, 'time_zone': None, 'geo_enabled': False, 'verified': True, 'statuses_count': 251591, 'lang': None, 'contributors_enabled': False, 'is_translator': False, 'is_translation_enabled': False, 'profile_background_color': 'C7DAFC', 'profile_background_image_url': 'http://abs.twimg.com/images/themes/theme1/bg.png', 'profile_background_image_url_https': 'https://abs.twimg.com/images/themes/theme1/bg.png', 'profile_background_tile': False, 'profile_image_url': 'http://pbs.twimg.com/profile_images/1369332051430768648/hFC-oD6t_normal.jpg', 'profile_image_url_https': 'https://pbs.twimg.com/profile_images/1369332051430768648/hFC-oD6t_normal.jpg', 'profile_banner_url': 'https://pbs.twimg.com/profile_banners/109556877/1652017364', 'profile_link_color': '2F84CD', 'profile_sidebar_border_color': 'FFFFFF', 'profile_sidebar_fill_color': 'DDEEF6', 'profile_text_color': '333333', 'profile_use_background_image': False, 'has_extended_profile': False, 'default_profile': False, 'default_profile_image': False, 'following': True, 'follow_request_sent': False, 'notifications': False, 'translator_type': 'regular', 'withheld_in_countries': []}, 'geo': None, 'coordinates': None, 'place': None, 'contributors': None, 'is_quote_status': False, 'retweet_count': 1, 'favorite_count': 6, 'favorited': False, 'retweeted': False, 'possibly_sensitive': False, 'lang': 'ar'}\n",
      "{'created_at': 'Sun Oct 02 20:57:01 +0000 2022', 'id': 1576677657567064064, 'id_str': '1576677657567064064', 'full_text': 'إليكم نتائج مباريات اليوم من الدوريات الأوروبية ⚽🔥\\n#رياضة #كرة_القدم #مباريات_اليوم #الدوريات_الأوروبية https://t.co/uiDf7uYAEy', 'truncated': False, 'display_text_range': [0, 103], 'entities': {'hashtags': [{'text': 'رياضة', 'indices': [51, 57]}, {'text': 'كرة_القدم', 'indices': [58, 68]}, {'text': 'مباريات_اليوم', 'indices': [69, 83]}, {'text': 'الدوريات_الأوروبية', 'indices': [84, 103]}], 'symbols': [], 'user_mentions': [], 'urls': [], 'media': [{'id': 1576677649669398528, 'id_str': '1576677649669398528', 'indices': [104, 127], 'media_url': 'http://pbs.twimg.com/media/FeF7-AHXoAARRCb.jpg', 'media_url_https': 'https://pbs.twimg.com/media/FeF7-AHXoAARRCb.jpg', 'url': 'https://t.co/uiDf7uYAEy', 'display_url': 'pic.twitter.com/uiDf7uYAEy', 'expanded_url': 'https://twitter.com/hespress/status/1576677657567064064/photo/1', 'type': 'photo', 'sizes': {'small': {'w': 680, 'h': 680, 'resize': 'fit'}, 'thumb': {'w': 150, 'h': 150, 'resize': 'crop'}, 'medium': {'w': 1080, 'h': 1080, 'resize': 'fit'}, 'large': {'w': 1080, 'h': 1080, 'resize': 'fit'}}}]}, 'extended_entities': {'media': [{'id': 1576677649669398528, 'id_str': '1576677649669398528', 'indices': [104, 127], 'media_url': 'http://pbs.twimg.com/media/FeF7-AHXoAARRCb.jpg', 'media_url_https': 'https://pbs.twimg.com/media/FeF7-AHXoAARRCb.jpg', 'url': 'https://t.co/uiDf7uYAEy', 'display_url': 'pic.twitter.com/uiDf7uYAEy', 'expanded_url': 'https://twitter.com/hespress/status/1576677657567064064/photo/1', 'type': 'photo', 'sizes': {'small': {'w': 680, 'h': 680, 'resize': 'fit'}, 'thumb': {'w': 150, 'h': 150, 'resize': 'crop'}, 'medium': {'w': 1080, 'h': 1080, 'resize': 'fit'}, 'large': {'w': 1080, 'h': 1080, 'resize': 'fit'}}}]}, 'source': '<a href=\"https://mobile.twitter.com\" rel=\"nofollow\">Twitter Web App</a>', 'in_reply_to_status_id': None, 'in_reply_to_status_id_str': None, 'in_reply_to_user_id': None, 'in_reply_to_user_id_str': None, 'in_reply_to_screen_name': None, 'user': {'id': 109556877, 'id_str': '109556877', 'name': 'Hespress هسبريس', 'screen_name': 'hespress', 'location': 'المغرب', 'description': 'أول جريدة إلكترونية مغربية تتجدد على مدار الساعة\\n@hespressfr', 'url': 'https://t.co/lCxuKeJ9hC', 'entities': {'url': {'urls': [{'url': 'https://t.co/lCxuKeJ9hC', 'expanded_url': 'http://www.hespress.com', 'display_url': 'hespress.com', 'indices': [0, 23]}]}, 'description': {'urls': []}}, 'protected': False, 'followers_count': 2588617, 'friends_count': 9550, 'listed_count': 1058, 'created_at': 'Fri Jan 29 13:17:51 +0000 2010', 'favourites_count': 712, 'utc_offset': None, 'time_zone': None, 'geo_enabled': False, 'verified': True, 'statuses_count': 251591, 'lang': None, 'contributors_enabled': False, 'is_translator': False, 'is_translation_enabled': False, 'profile_background_color': 'C7DAFC', 'profile_background_image_url': 'http://abs.twimg.com/images/themes/theme1/bg.png', 'profile_background_image_url_https': 'https://abs.twimg.com/images/themes/theme1/bg.png', 'profile_background_tile': False, 'profile_image_url': 'http://pbs.twimg.com/profile_images/1369332051430768648/hFC-oD6t_normal.jpg', 'profile_image_url_https': 'https://pbs.twimg.com/profile_images/1369332051430768648/hFC-oD6t_normal.jpg', 'profile_banner_url': 'https://pbs.twimg.com/profile_banners/109556877/1652017364', 'profile_link_color': '2F84CD', 'profile_sidebar_border_color': 'FFFFFF', 'profile_sidebar_fill_color': 'DDEEF6', 'profile_text_color': '333333', 'profile_use_background_image': False, 'has_extended_profile': False, 'default_profile': False, 'default_profile_image': False, 'following': True, 'follow_request_sent': False, 'notifications': False, 'translator_type': 'regular', 'withheld_in_countries': []}, 'geo': None, 'coordinates': None, 'place': None, 'contributors': None, 'is_quote_status': False, 'retweet_count': 0, 'favorite_count': 9, 'favorited': False, 'retweeted': False, 'possibly_sensitive': False, 'lang': 'ar'}\n",
      "{'created_at': 'Sun Oct 02 19:12:35 +0000 2022', 'id': 1576651376868069376, 'id_str': '1576651376868069376', 'full_text': 'حظيت عريضة تدعو إلى إجراء انتخابات عامة مبكرة في المملكة المتحدة بدعم سريع، إذ جمعت ما يقرب من 4 آلاف توقيع جديد في ساعة واحدة ليصل إجمالي عدد الموقعين البريطانيين عليها الآن إلى ما يقرب من 400 ألف شخص.\\n#المملكة_المتحدة #انتخابات #البريطانيين https://t.co/GddncS5Nbu', 'truncated': False, 'display_text_range': [0, 242], 'entities': {'hashtags': [{'text': 'المملكة_المتحدة', 'indices': [203, 219]}, {'text': 'انتخابات', 'indices': [220, 229]}, {'text': 'البريطانيين', 'indices': [230, 242]}], 'symbols': [], 'user_mentions': [], 'urls': [], 'media': [{'id': 1576651365606105089, 'id_str': '1576651365606105089', 'indices': [243, 266], 'media_url': 'http://pbs.twimg.com/media/FeFkEEWWIAE5t3W.jpg', 'media_url_https': 'https://pbs.twimg.com/media/FeFkEEWWIAE5t3W.jpg', 'url': 'https://t.co/GddncS5Nbu', 'display_url': 'pic.twitter.com/GddncS5Nbu', 'expanded_url': 'https://twitter.com/hespress/status/1576651376868069376/photo/1', 'type': 'photo', 'sizes': {'thumb': {'w': 150, 'h': 150, 'resize': 'crop'}, 'small': {'w': 680, 'h': 680, 'resize': 'fit'}, 'large': {'w': 1080, 'h': 1080, 'resize': 'fit'}, 'medium': {'w': 1080, 'h': 1080, 'resize': 'fit'}}}]}, 'extended_entities': {'media': [{'id': 1576651365606105089, 'id_str': '1576651365606105089', 'indices': [243, 266], 'media_url': 'http://pbs.twimg.com/media/FeFkEEWWIAE5t3W.jpg', 'media_url_https': 'https://pbs.twimg.com/media/FeFkEEWWIAE5t3W.jpg', 'url': 'https://t.co/GddncS5Nbu', 'display_url': 'pic.twitter.com/GddncS5Nbu', 'expanded_url': 'https://twitter.com/hespress/status/1576651376868069376/photo/1', 'type': 'photo', 'sizes': {'thumb': {'w': 150, 'h': 150, 'resize': 'crop'}, 'small': {'w': 680, 'h': 680, 'resize': 'fit'}, 'large': {'w': 1080, 'h': 1080, 'resize': 'fit'}, 'medium': {'w': 1080, 'h': 1080, 'resize': 'fit'}}}]}, 'source': '<a href=\"https://mobile.twitter.com\" rel=\"nofollow\">Twitter Web App</a>', 'in_reply_to_status_id': None, 'in_reply_to_status_id_str': None, 'in_reply_to_user_id': None, 'in_reply_to_user_id_str': None, 'in_reply_to_screen_name': None, 'user': {'id': 109556877, 'id_str': '109556877', 'name': 'Hespress هسبريس', 'screen_name': 'hespress', 'location': 'المغرب', 'description': 'أول جريدة إلكترونية مغربية تتجدد على مدار الساعة\\n@hespressfr', 'url': 'https://t.co/lCxuKeJ9hC', 'entities': {'url': {'urls': [{'url': 'https://t.co/lCxuKeJ9hC', 'expanded_url': 'http://www.hespress.com', 'display_url': 'hespress.com', 'indices': [0, 23]}]}, 'description': {'urls': []}}, 'protected': False, 'followers_count': 2588617, 'friends_count': 9550, 'listed_count': 1058, 'created_at': 'Fri Jan 29 13:17:51 +0000 2010', 'favourites_count': 712, 'utc_offset': None, 'time_zone': None, 'geo_enabled': False, 'verified': True, 'statuses_count': 251591, 'lang': None, 'contributors_enabled': False, 'is_translator': False, 'is_translation_enabled': False, 'profile_background_color': 'C7DAFC', 'profile_background_image_url': 'http://abs.twimg.com/images/themes/theme1/bg.png', 'profile_background_image_url_https': 'https://abs.twimg.com/images/themes/theme1/bg.png', 'profile_background_tile': False, 'profile_image_url': 'http://pbs.twimg.com/profile_images/1369332051430768648/hFC-oD6t_normal.jpg', 'profile_image_url_https': 'https://pbs.twimg.com/profile_images/1369332051430768648/hFC-oD6t_normal.jpg', 'profile_banner_url': 'https://pbs.twimg.com/profile_banners/109556877/1652017364', 'profile_link_color': '2F84CD', 'profile_sidebar_border_color': 'FFFFFF', 'profile_sidebar_fill_color': 'DDEEF6', 'profile_text_color': '333333', 'profile_use_background_image': False, 'has_extended_profile': False, 'default_profile': False, 'default_profile_image': False, 'following': True, 'follow_request_sent': False, 'notifications': False, 'translator_type': 'regular', 'withheld_in_countries': []}, 'geo': None, 'coordinates': None, 'place': None, 'contributors': None, 'is_quote_status': False, 'retweet_count': 2, 'favorite_count': 16, 'favorited': False, 'retweeted': False, 'possibly_sensitive': False, 'lang': 'ar'}\n",
      "{'created_at': 'Sun Oct 02 18:51:32 +0000 2022', 'id': 1576646080154206208, 'id_str': '1576646080154206208', 'full_text': '📸 تُوّج المكسيكي سيرجيو بيريز، سائق فريق \"ريد بول\"، اليوم الأحد، بجائزة سنغافورة الكبرى \"للفورمولا 1\"، ليضمن بذلك انتصاره الثاني بعد فوزه بجائزة موناكو الكبرى في شهر ماي الماضي.\\n#سنغافورة #الفورمولا_1 #سيرجيو_بيريز #سباق https://t.co/T466t0xCa3', 'truncated': False, 'display_text_range': [0, 220], 'entities': {'hashtags': [{'text': 'سنغافورة', 'indices': [178, 187]}, {'text': 'الفورمولا_1', 'indices': [188, 200]}, {'text': 'سيرجيو_بيريز', 'indices': [201, 214]}, {'text': 'سباق', 'indices': [215, 220]}], 'symbols': [], 'user_mentions': [], 'urls': [], 'media': [{'id': 1576646047098703874, 'id_str': '1576646047098703874', 'indices': [221, 244], 'media_url': 'http://pbs.twimg.com/media/FeFfOfXXkAIFfVx.jpg', 'media_url_https': 'https://pbs.twimg.com/media/FeFfOfXXkAIFfVx.jpg', 'url': 'https://t.co/T466t0xCa3', 'display_url': 'pic.twitter.com/T466t0xCa3', 'expanded_url': 'https://twitter.com/hespress/status/1576646080154206208/photo/1', 'type': 'photo', 'sizes': {'thumb': {'w': 150, 'h': 150, 'resize': 'crop'}, 'small': {'w': 680, 'h': 680, 'resize': 'fit'}, 'large': {'w': 1080, 'h': 1080, 'resize': 'fit'}, 'medium': {'w': 1080, 'h': 1080, 'resize': 'fit'}}}]}, 'extended_entities': {'media': [{'id': 1576646047098703874, 'id_str': '1576646047098703874', 'indices': [221, 244], 'media_url': 'http://pbs.twimg.com/media/FeFfOfXXkAIFfVx.jpg', 'media_url_https': 'https://pbs.twimg.com/media/FeFfOfXXkAIFfVx.jpg', 'url': 'https://t.co/T466t0xCa3', 'display_url': 'pic.twitter.com/T466t0xCa3', 'expanded_url': 'https://twitter.com/hespress/status/1576646080154206208/photo/1', 'type': 'photo', 'sizes': {'thumb': {'w': 150, 'h': 150, 'resize': 'crop'}, 'small': {'w': 680, 'h': 680, 'resize': 'fit'}, 'large': {'w': 1080, 'h': 1080, 'resize': 'fit'}, 'medium': {'w': 1080, 'h': 1080, 'resize': 'fit'}}}]}, 'source': '<a href=\"https://mobile.twitter.com\" rel=\"nofollow\">Twitter Web App</a>', 'in_reply_to_status_id': None, 'in_reply_to_status_id_str': None, 'in_reply_to_user_id': None, 'in_reply_to_user_id_str': None, 'in_reply_to_screen_name': None, 'user': {'id': 109556877, 'id_str': '109556877', 'name': 'Hespress هسبريس', 'screen_name': 'hespress', 'location': 'المغرب', 'description': 'أول جريدة إلكترونية مغربية تتجدد على مدار الساعة\\n@hespressfr', 'url': 'https://t.co/lCxuKeJ9hC', 'entities': {'url': {'urls': [{'url': 'https://t.co/lCxuKeJ9hC', 'expanded_url': 'http://www.hespress.com', 'display_url': 'hespress.com', 'indices': [0, 23]}]}, 'description': {'urls': []}}, 'protected': False, 'followers_count': 2588617, 'friends_count': 9550, 'listed_count': 1058, 'created_at': 'Fri Jan 29 13:17:51 +0000 2010', 'favourites_count': 712, 'utc_offset': None, 'time_zone': None, 'geo_enabled': False, 'verified': True, 'statuses_count': 251591, 'lang': None, 'contributors_enabled': False, 'is_translator': False, 'is_translation_enabled': False, 'profile_background_color': 'C7DAFC', 'profile_background_image_url': 'http://abs.twimg.com/images/themes/theme1/bg.png', 'profile_background_image_url_https': 'https://abs.twimg.com/images/themes/theme1/bg.png', 'profile_background_tile': False, 'profile_image_url': 'http://pbs.twimg.com/profile_images/1369332051430768648/hFC-oD6t_normal.jpg', 'profile_image_url_https': 'https://pbs.twimg.com/profile_images/1369332051430768648/hFC-oD6t_normal.jpg', 'profile_banner_url': 'https://pbs.twimg.com/profile_banners/109556877/1652017364', 'profile_link_color': '2F84CD', 'profile_sidebar_border_color': 'FFFFFF', 'profile_sidebar_fill_color': 'DDEEF6', 'profile_text_color': '333333', 'profile_use_background_image': False, 'has_extended_profile': False, 'default_profile': False, 'default_profile_image': False, 'following': True, 'follow_request_sent': False, 'notifications': False, 'translator_type': 'regular', 'withheld_in_countries': []}, 'geo': None, 'coordinates': None, 'place': None, 'contributors': None, 'is_quote_status': False, 'retweet_count': 0, 'favorite_count': 12, 'favorited': False, 'retweeted': False, 'possibly_sensitive': False, 'lang': 'ar'}\n",
      "{'created_at': 'Sun Oct 02 18:34:16 +0000 2022', 'id': 1576641733160751104, 'id_str': '1576641733160751104', 'full_text': 'كثّفت جبهة “#البوليساريو” من اللقاءات السياسية التي جمعتها مع الأحزاب الموريتانية في الأيام الماضية، سعياً منها إلى استمالة موقف النخبة السياسية الموريتانية من قضية #الصحراء_المغربية، وذلك بالتزامن مع اقتراب مناقشات مجلس الأمن الدولي حول الملف في أكتوبر الجاري. https://t.co/tCm4PsvY5Z', 'truncated': False, 'display_text_range': [0, 261], 'entities': {'hashtags': [{'text': 'البوليساريو', 'indices': [12, 24]}, {'text': 'الصحراء_المغربية', 'indices': [165, 182]}], 'symbols': [], 'user_mentions': [], 'urls': [], 'media': [{'id': 1576641721487745034, 'id_str': '1576641721487745034', 'indices': [262, 285], 'media_url': 'http://pbs.twimg.com/media/FeFbStNWYAoEVMu.jpg', 'media_url_https': 'https://pbs.twimg.com/media/FeFbStNWYAoEVMu.jpg', 'url': 'https://t.co/tCm4PsvY5Z', 'display_url': 'pic.twitter.com/tCm4PsvY5Z', 'expanded_url': 'https://twitter.com/hespress/status/1576641733160751104/photo/1', 'type': 'photo', 'sizes': {'thumb': {'w': 150, 'h': 150, 'resize': 'crop'}, 'large': {'w': 1080, 'h': 1080, 'resize': 'fit'}, 'small': {'w': 680, 'h': 680, 'resize': 'fit'}, 'medium': {'w': 1080, 'h': 1080, 'resize': 'fit'}}}]}, 'extended_entities': {'media': [{'id': 1576641721487745034, 'id_str': '1576641721487745034', 'indices': [262, 285], 'media_url': 'http://pbs.twimg.com/media/FeFbStNWYAoEVMu.jpg', 'media_url_https': 'https://pbs.twimg.com/media/FeFbStNWYAoEVMu.jpg', 'url': 'https://t.co/tCm4PsvY5Z', 'display_url': 'pic.twitter.com/tCm4PsvY5Z', 'expanded_url': 'https://twitter.com/hespress/status/1576641733160751104/photo/1', 'type': 'photo', 'sizes': {'thumb': {'w': 150, 'h': 150, 'resize': 'crop'}, 'large': {'w': 1080, 'h': 1080, 'resize': 'fit'}, 'small': {'w': 680, 'h': 680, 'resize': 'fit'}, 'medium': {'w': 1080, 'h': 1080, 'resize': 'fit'}}}]}, 'source': '<a href=\"https://mobile.twitter.com\" rel=\"nofollow\">Twitter Web App</a>', 'in_reply_to_status_id': None, 'in_reply_to_status_id_str': None, 'in_reply_to_user_id': None, 'in_reply_to_user_id_str': None, 'in_reply_to_screen_name': None, 'user': {'id': 109556877, 'id_str': '109556877', 'name': 'Hespress هسبريس', 'screen_name': 'hespress', 'location': 'المغرب', 'description': 'أول جريدة إلكترونية مغربية تتجدد على مدار الساعة\\n@hespressfr', 'url': 'https://t.co/lCxuKeJ9hC', 'entities': {'url': {'urls': [{'url': 'https://t.co/lCxuKeJ9hC', 'expanded_url': 'http://www.hespress.com', 'display_url': 'hespress.com', 'indices': [0, 23]}]}, 'description': {'urls': []}}, 'protected': False, 'followers_count': 2588617, 'friends_count': 9550, 'listed_count': 1058, 'created_at': 'Fri Jan 29 13:17:51 +0000 2010', 'favourites_count': 712, 'utc_offset': None, 'time_zone': None, 'geo_enabled': False, 'verified': True, 'statuses_count': 251591, 'lang': None, 'contributors_enabled': False, 'is_translator': False, 'is_translation_enabled': False, 'profile_background_color': 'C7DAFC', 'profile_background_image_url': 'http://abs.twimg.com/images/themes/theme1/bg.png', 'profile_background_image_url_https': 'https://abs.twimg.com/images/themes/theme1/bg.png', 'profile_background_tile': False, 'profile_image_url': 'http://pbs.twimg.com/profile_images/1369332051430768648/hFC-oD6t_normal.jpg', 'profile_image_url_https': 'https://pbs.twimg.com/profile_images/1369332051430768648/hFC-oD6t_normal.jpg', 'profile_banner_url': 'https://pbs.twimg.com/profile_banners/109556877/1652017364', 'profile_link_color': '2F84CD', 'profile_sidebar_border_color': 'FFFFFF', 'profile_sidebar_fill_color': 'DDEEF6', 'profile_text_color': '333333', 'profile_use_background_image': False, 'has_extended_profile': False, 'default_profile': False, 'default_profile_image': False, 'following': True, 'follow_request_sent': False, 'notifications': False, 'translator_type': 'regular', 'withheld_in_countries': []}, 'geo': None, 'coordinates': None, 'place': None, 'contributors': None, 'is_quote_status': False, 'retweet_count': 1, 'favorite_count': 15, 'favorited': False, 'retweeted': False, 'possibly_sensitive': False, 'lang': 'ar'}\n",
      "{'created_at': 'Sun Oct 02 17:24:21 +0000 2022', 'id': 1576624137115955200, 'id_str': '1576624137115955200', 'full_text': 'تدرس الحكومة سيناريوهات عديدة لدعم ولوج المواطنين إلى السكن وملاءمته للطلب الحالي، بما يتجاوز المعيقات التي برزت مع برامج السكن المدعومة في السنوات الماضية.\\n#المغرب #الحكومة_المغربية #السكن #المغاربة https://t.co/lz1UaTaGXg', 'truncated': False, 'display_text_range': [0, 199], 'entities': {'hashtags': [{'text': 'المغرب', 'indices': [157, 164]}, {'text': 'الحكومة_المغربية', 'indices': [165, 182]}, {'text': 'السكن', 'indices': [183, 189]}, {'text': 'المغاربة', 'indices': [190, 199]}], 'symbols': [], 'user_mentions': [], 'urls': [], 'media': [{'id': 1576624099937370114, 'id_str': '1576624099937370114', 'indices': [200, 223], 'media_url': 'http://pbs.twimg.com/media/FeFLQ_0WQAIFvSI.jpg', 'media_url_https': 'https://pbs.twimg.com/media/FeFLQ_0WQAIFvSI.jpg', 'url': 'https://t.co/lz1UaTaGXg', 'display_url': 'pic.twitter.com/lz1UaTaGXg', 'expanded_url': 'https://twitter.com/hespress/status/1576624137115955200/photo/1', 'type': 'photo', 'sizes': {'thumb': {'w': 150, 'h': 150, 'resize': 'crop'}, 'medium': {'w': 1080, 'h': 1080, 'resize': 'fit'}, 'large': {'w': 1080, 'h': 1080, 'resize': 'fit'}, 'small': {'w': 680, 'h': 680, 'resize': 'fit'}}}]}, 'extended_entities': {'media': [{'id': 1576624099937370114, 'id_str': '1576624099937370114', 'indices': [200, 223], 'media_url': 'http://pbs.twimg.com/media/FeFLQ_0WQAIFvSI.jpg', 'media_url_https': 'https://pbs.twimg.com/media/FeFLQ_0WQAIFvSI.jpg', 'url': 'https://t.co/lz1UaTaGXg', 'display_url': 'pic.twitter.com/lz1UaTaGXg', 'expanded_url': 'https://twitter.com/hespress/status/1576624137115955200/photo/1', 'type': 'photo', 'sizes': {'thumb': {'w': 150, 'h': 150, 'resize': 'crop'}, 'medium': {'w': 1080, 'h': 1080, 'resize': 'fit'}, 'large': {'w': 1080, 'h': 1080, 'resize': 'fit'}, 'small': {'w': 680, 'h': 680, 'resize': 'fit'}}}]}, 'source': '<a href=\"https://mobile.twitter.com\" rel=\"nofollow\">Twitter Web App</a>', 'in_reply_to_status_id': None, 'in_reply_to_status_id_str': None, 'in_reply_to_user_id': None, 'in_reply_to_user_id_str': None, 'in_reply_to_screen_name': None, 'user': {'id': 109556877, 'id_str': '109556877', 'name': 'Hespress هسبريس', 'screen_name': 'hespress', 'location': 'المغرب', 'description': 'أول جريدة إلكترونية مغربية تتجدد على مدار الساعة\\n@hespressfr', 'url': 'https://t.co/lCxuKeJ9hC', 'entities': {'url': {'urls': [{'url': 'https://t.co/lCxuKeJ9hC', 'expanded_url': 'http://www.hespress.com', 'display_url': 'hespress.com', 'indices': [0, 23]}]}, 'description': {'urls': []}}, 'protected': False, 'followers_count': 2588617, 'friends_count': 9550, 'listed_count': 1058, 'created_at': 'Fri Jan 29 13:17:51 +0000 2010', 'favourites_count': 712, 'utc_offset': None, 'time_zone': None, 'geo_enabled': False, 'verified': True, 'statuses_count': 251591, 'lang': None, 'contributors_enabled': False, 'is_translator': False, 'is_translation_enabled': False, 'profile_background_color': 'C7DAFC', 'profile_background_image_url': 'http://abs.twimg.com/images/themes/theme1/bg.png', 'profile_background_image_url_https': 'https://abs.twimg.com/images/themes/theme1/bg.png', 'profile_background_tile': False, 'profile_image_url': 'http://pbs.twimg.com/profile_images/1369332051430768648/hFC-oD6t_normal.jpg', 'profile_image_url_https': 'https://pbs.twimg.com/profile_images/1369332051430768648/hFC-oD6t_normal.jpg', 'profile_banner_url': 'https://pbs.twimg.com/profile_banners/109556877/1652017364', 'profile_link_color': '2F84CD', 'profile_sidebar_border_color': 'FFFFFF', 'profile_sidebar_fill_color': 'DDEEF6', 'profile_text_color': '333333', 'profile_use_background_image': False, 'has_extended_profile': False, 'default_profile': False, 'default_profile_image': False, 'following': True, 'follow_request_sent': False, 'notifications': False, 'translator_type': 'regular', 'withheld_in_countries': []}, 'geo': None, 'coordinates': None, 'place': None, 'contributors': None, 'is_quote_status': False, 'retweet_count': 4, 'favorite_count': 44, 'favorited': False, 'retweeted': False, 'possibly_sensitive': False, 'lang': 'ar'}\n",
      "{'created_at': 'Sun Oct 02 17:04:00 +0000 2022', 'id': 1576619016407248896, 'id_str': '1576619016407248896', 'full_text': 'بعدما نشر فيديو يدعو إلى التصويت لليميني بولسونارو.. نجم كرة القدم البرازيلي نيمار يثير غضب الآلاف من محبيه\\n#نيمار #بولسونارو #انتخابات https://t.co/yJ3Ei9ONl0', 'truncated': False, 'display_text_range': [0, 135], 'entities': {'hashtags': [{'text': 'نيمار', 'indices': [108, 114]}, {'text': 'بولسونارو', 'indices': [115, 125]}, {'text': 'انتخابات', 'indices': [126, 135]}], 'symbols': [], 'user_mentions': [], 'urls': [], 'media': [{'id': 1576615322790019073, 'id_str': '1576615322790019073', 'indices': [136, 159], 'media_url': 'http://pbs.twimg.com/ext_tw_video_thumb/1576615322790019073/pu/img/i1coJTQfrrbSB-pW.jpg', 'media_url_https': 'https://pbs.twimg.com/ext_tw_video_thumb/1576615322790019073/pu/img/i1coJTQfrrbSB-pW.jpg', 'url': 'https://t.co/yJ3Ei9ONl0', 'display_url': 'pic.twitter.com/yJ3Ei9ONl0', 'expanded_url': 'https://twitter.com/hespress/status/1576619016407248896/video/1', 'type': 'photo', 'sizes': {'thumb': {'w': 150, 'h': 150, 'resize': 'crop'}, 'small': {'w': 544, 'h': 680, 'resize': 'fit'}, 'large': {'w': 1080, 'h': 1350, 'resize': 'fit'}, 'medium': {'w': 960, 'h': 1200, 'resize': 'fit'}}}]}, 'extended_entities': {'media': [{'id': 1576615322790019073, 'id_str': '1576615322790019073', 'indices': [136, 159], 'media_url': 'http://pbs.twimg.com/ext_tw_video_thumb/1576615322790019073/pu/img/i1coJTQfrrbSB-pW.jpg', 'media_url_https': 'https://pbs.twimg.com/ext_tw_video_thumb/1576615322790019073/pu/img/i1coJTQfrrbSB-pW.jpg', 'url': 'https://t.co/yJ3Ei9ONl0', 'display_url': 'pic.twitter.com/yJ3Ei9ONl0', 'expanded_url': 'https://twitter.com/hespress/status/1576619016407248896/video/1', 'type': 'video', 'sizes': {'thumb': {'w': 150, 'h': 150, 'resize': 'crop'}, 'small': {'w': 544, 'h': 680, 'resize': 'fit'}, 'large': {'w': 1080, 'h': 1350, 'resize': 'fit'}, 'medium': {'w': 960, 'h': 1200, 'resize': 'fit'}}, 'video_info': {'aspect_ratio': [4, 5], 'duration_millis': 37771, 'variants': [{'content_type': 'application/x-mpegURL', 'url': 'https://video.twimg.com/ext_tw_video/1576615322790019073/pu/pl/mOGdUb8xzSa4jZPy.m3u8?tag=12&container=fmp4'}, {'bitrate': 950000, 'content_type': 'video/mp4', 'url': 'https://video.twimg.com/ext_tw_video/1576615322790019073/pu/vid/480x600/YArDo_x2sYkiYqvr.mp4?tag=12'}, {'bitrate': 2176000, 'content_type': 'video/mp4', 'url': 'https://video.twimg.com/ext_tw_video/1576615322790019073/pu/vid/720x900/0dafJB1tQPqTlfwr.mp4?tag=12'}, {'bitrate': 632000, 'content_type': 'video/mp4', 'url': 'https://video.twimg.com/ext_tw_video/1576615322790019073/pu/vid/320x400/vCNKmeAHPlj-h2dK.mp4?tag=12'}]}, 'additional_media_info': {'monetizable': False}}]}, 'source': '<a href=\"https://mobile.twitter.com\" rel=\"nofollow\">Twitter Web App</a>', 'in_reply_to_status_id': None, 'in_reply_to_status_id_str': None, 'in_reply_to_user_id': None, 'in_reply_to_user_id_str': None, 'in_reply_to_screen_name': None, 'user': {'id': 109556877, 'id_str': '109556877', 'name': 'Hespress هسبريس', 'screen_name': 'hespress', 'location': 'المغرب', 'description': 'أول جريدة إلكترونية مغربية تتجدد على مدار الساعة\\n@hespressfr', 'url': 'https://t.co/lCxuKeJ9hC', 'entities': {'url': {'urls': [{'url': 'https://t.co/lCxuKeJ9hC', 'expanded_url': 'http://www.hespress.com', 'display_url': 'hespress.com', 'indices': [0, 23]}]}, 'description': {'urls': []}}, 'protected': False, 'followers_count': 2588617, 'friends_count': 9550, 'listed_count': 1058, 'created_at': 'Fri Jan 29 13:17:51 +0000 2010', 'favourites_count': 712, 'utc_offset': None, 'time_zone': None, 'geo_enabled': False, 'verified': True, 'statuses_count': 251591, 'lang': None, 'contributors_enabled': False, 'is_translator': False, 'is_translation_enabled': False, 'profile_background_color': 'C7DAFC', 'profile_background_image_url': 'http://abs.twimg.com/images/themes/theme1/bg.png', 'profile_background_image_url_https': 'https://abs.twimg.com/images/themes/theme1/bg.png', 'profile_background_tile': False, 'profile_image_url': 'http://pbs.twimg.com/profile_images/1369332051430768648/hFC-oD6t_normal.jpg', 'profile_image_url_https': 'https://pbs.twimg.com/profile_images/1369332051430768648/hFC-oD6t_normal.jpg', 'profile_banner_url': 'https://pbs.twimg.com/profile_banners/109556877/1652017364', 'profile_link_color': '2F84CD', 'profile_sidebar_border_color': 'FFFFFF', 'profile_sidebar_fill_color': 'DDEEF6', 'profile_text_color': '333333', 'profile_use_background_image': False, 'has_extended_profile': False, 'default_profile': False, 'default_profile_image': False, 'following': True, 'follow_request_sent': False, 'notifications': False, 'translator_type': 'regular', 'withheld_in_countries': []}, 'geo': None, 'coordinates': None, 'place': None, 'contributors': None, 'is_quote_status': False, 'retweet_count': 1, 'favorite_count': 4, 'favorited': False, 'retweeted': False, 'possibly_sensitive': False, 'lang': 'ar'}\n",
      "{'created_at': 'Sun Oct 02 16:29:43 +0000 2022', 'id': 1576610389508648960, 'id_str': '1576610389508648960', 'full_text': 'وزيرة الإسكانِ الإسبانية السابقة تؤكد أن الصحراء مغربية.. و\"البولفار\" يدين العنف والتحرش في المهرجان.\\nأهم أخبار المغرب والعالم في المختصَر 👇\\n#المختصر #المختصر_هسبريس #المغرب https://t.co/KaCCb8gDDZ', 'truncated': False, 'display_text_range': [0, 173], 'entities': {'hashtags': [{'text': 'المختصر', 'indices': [141, 149]}, {'text': 'المختصر_هسبريس', 'indices': [150, 165]}, {'text': 'المغرب', 'indices': [166, 173]}], 'symbols': [], 'user_mentions': [], 'urls': [], 'media': [{'id': 1576609840071409665, 'id_str': '1576609840071409665', 'indices': [174, 197], 'media_url': 'http://pbs.twimg.com/ext_tw_video_thumb/1576609840071409665/pu/img/1bt2Ij_004S_qfRx.jpg', 'media_url_https': 'https://pbs.twimg.com/ext_tw_video_thumb/1576609840071409665/pu/img/1bt2Ij_004S_qfRx.jpg', 'url': 'https://t.co/KaCCb8gDDZ', 'display_url': 'pic.twitter.com/KaCCb8gDDZ', 'expanded_url': 'https://twitter.com/hespress/status/1576610389508648960/video/1', 'type': 'photo', 'sizes': {'thumb': {'w': 150, 'h': 150, 'resize': 'crop'}, 'small': {'w': 383, 'h': 680, 'resize': 'fit'}, 'medium': {'w': 675, 'h': 1200, 'resize': 'fit'}, 'large': {'w': 1080, 'h': 1920, 'resize': 'fit'}}}]}, 'extended_entities': {'media': [{'id': 1576609840071409665, 'id_str': '1576609840071409665', 'indices': [174, 197], 'media_url': 'http://pbs.twimg.com/ext_tw_video_thumb/1576609840071409665/pu/img/1bt2Ij_004S_qfRx.jpg', 'media_url_https': 'https://pbs.twimg.com/ext_tw_video_thumb/1576609840071409665/pu/img/1bt2Ij_004S_qfRx.jpg', 'url': 'https://t.co/KaCCb8gDDZ', 'display_url': 'pic.twitter.com/KaCCb8gDDZ', 'expanded_url': 'https://twitter.com/hespress/status/1576610389508648960/video/1', 'type': 'video', 'sizes': {'thumb': {'w': 150, 'h': 150, 'resize': 'crop'}, 'small': {'w': 383, 'h': 680, 'resize': 'fit'}, 'medium': {'w': 675, 'h': 1200, 'resize': 'fit'}, 'large': {'w': 1080, 'h': 1920, 'resize': 'fit'}}, 'video_info': {'aspect_ratio': [9, 16], 'duration_millis': 138805, 'variants': [{'content_type': 'application/x-mpegURL', 'url': 'https://video.twimg.com/ext_tw_video/1576609840071409665/pu/pl/co-3zr921R7FHCRq.m3u8?tag=12&container=fmp4'}, {'bitrate': 632000, 'content_type': 'video/mp4', 'url': 'https://video.twimg.com/ext_tw_video/1576609840071409665/pu/vid/320x568/2Y60v-enexVh8eU9.mp4?tag=12'}, {'bitrate': 950000, 'content_type': 'video/mp4', 'url': 'https://video.twimg.com/ext_tw_video/1576609840071409665/pu/vid/480x852/c0JsqRIxi76pQDAA.mp4?tag=12'}, {'bitrate': 2176000, 'content_type': 'video/mp4', 'url': 'https://video.twimg.com/ext_tw_video/1576609840071409665/pu/vid/720x1280/FJkOno4huoLrffba.mp4?tag=12'}]}, 'additional_media_info': {'monetizable': False}}]}, 'source': '<a href=\"https://mobile.twitter.com\" rel=\"nofollow\">Twitter Web App</a>', 'in_reply_to_status_id': None, 'in_reply_to_status_id_str': None, 'in_reply_to_user_id': None, 'in_reply_to_user_id_str': None, 'in_reply_to_screen_name': None, 'user': {'id': 109556877, 'id_str': '109556877', 'name': 'Hespress هسبريس', 'screen_name': 'hespress', 'location': 'المغرب', 'description': 'أول جريدة إلكترونية مغربية تتجدد على مدار الساعة\\n@hespressfr', 'url': 'https://t.co/lCxuKeJ9hC', 'entities': {'url': {'urls': [{'url': 'https://t.co/lCxuKeJ9hC', 'expanded_url': 'http://www.hespress.com', 'display_url': 'hespress.com', 'indices': [0, 23]}]}, 'description': {'urls': []}}, 'protected': False, 'followers_count': 2588617, 'friends_count': 9550, 'listed_count': 1058, 'created_at': 'Fri Jan 29 13:17:51 +0000 2010', 'favourites_count': 712, 'utc_offset': None, 'time_zone': None, 'geo_enabled': False, 'verified': True, 'statuses_count': 251591, 'lang': None, 'contributors_enabled': False, 'is_translator': False, 'is_translation_enabled': False, 'profile_background_color': 'C7DAFC', 'profile_background_image_url': 'http://abs.twimg.com/images/themes/theme1/bg.png', 'profile_background_image_url_https': 'https://abs.twimg.com/images/themes/theme1/bg.png', 'profile_background_tile': False, 'profile_image_url': 'http://pbs.twimg.com/profile_images/1369332051430768648/hFC-oD6t_normal.jpg', 'profile_image_url_https': 'https://pbs.twimg.com/profile_images/1369332051430768648/hFC-oD6t_normal.jpg', 'profile_banner_url': 'https://pbs.twimg.com/profile_banners/109556877/1652017364', 'profile_link_color': '2F84CD', 'profile_sidebar_border_color': 'FFFFFF', 'profile_sidebar_fill_color': 'DDEEF6', 'profile_text_color': '333333', 'profile_use_background_image': False, 'has_extended_profile': False, 'default_profile': False, 'default_profile_image': False, 'following': True, 'follow_request_sent': False, 'notifications': False, 'translator_type': 'regular', 'withheld_in_countries': []}, 'geo': None, 'coordinates': None, 'place': None, 'contributors': None, 'is_quote_status': False, 'retweet_count': 0, 'favorite_count': 17, 'favorited': False, 'retweeted': False, 'possibly_sensitive': False, 'lang': 'ar'}\n",
      "{'created_at': 'Sun Oct 02 15:47:31 +0000 2022', 'id': 1576599770092941314, 'id_str': '1576599770092941314', 'full_text': 'فتاة مقيدة وتصرخ لطلب المساعدة.. داخلية مصر تكشف الملابسات.\\n\\n#فتاة #مصر #المساعدة https://t.co/kpQ7lFB7lt', 'truncated': False, 'display_text_range': [0, 81], 'entities': {'hashtags': [{'text': 'فتاة', 'indices': [61, 66]}, {'text': 'مصر', 'indices': [67, 71]}, {'text': 'المساعدة', 'indices': [72, 81]}], 'symbols': [], 'user_mentions': [], 'urls': [], 'media': [{'id': 1576599540886536197, 'id_str': '1576599540886536197', 'indices': [82, 105], 'media_url': 'http://pbs.twimg.com/ext_tw_video_thumb/1576599540886536197/pu/img/IFf5_iVOpRRUuVYb.jpg', 'media_url_https': 'https://pbs.twimg.com/ext_tw_video_thumb/1576599540886536197/pu/img/IFf5_iVOpRRUuVYb.jpg', 'url': 'https://t.co/kpQ7lFB7lt', 'display_url': 'pic.twitter.com/kpQ7lFB7lt', 'expanded_url': 'https://twitter.com/hespress/status/1576599770092941314/video/1', 'type': 'photo', 'sizes': {'thumb': {'w': 150, 'h': 150, 'resize': 'crop'}, 'small': {'w': 544, 'h': 680, 'resize': 'fit'}, 'large': {'w': 1080, 'h': 1350, 'resize': 'fit'}, 'medium': {'w': 960, 'h': 1200, 'resize': 'fit'}}}]}, 'extended_entities': {'media': [{'id': 1576599540886536197, 'id_str': '1576599540886536197', 'indices': [82, 105], 'media_url': 'http://pbs.twimg.com/ext_tw_video_thumb/1576599540886536197/pu/img/IFf5_iVOpRRUuVYb.jpg', 'media_url_https': 'https://pbs.twimg.com/ext_tw_video_thumb/1576599540886536197/pu/img/IFf5_iVOpRRUuVYb.jpg', 'url': 'https://t.co/kpQ7lFB7lt', 'display_url': 'pic.twitter.com/kpQ7lFB7lt', 'expanded_url': 'https://twitter.com/hespress/status/1576599770092941314/video/1', 'type': 'video', 'sizes': {'thumb': {'w': 150, 'h': 150, 'resize': 'crop'}, 'small': {'w': 544, 'h': 680, 'resize': 'fit'}, 'large': {'w': 1080, 'h': 1350, 'resize': 'fit'}, 'medium': {'w': 960, 'h': 1200, 'resize': 'fit'}}, 'video_info': {'aspect_ratio': [4, 5], 'duration_millis': 35902, 'variants': [{'bitrate': 2176000, 'content_type': 'video/mp4', 'url': 'https://video.twimg.com/ext_tw_video/1576599540886536197/pu/vid/720x900/pzFFxaneKZgZFlnr.mp4?tag=12'}, {'content_type': 'application/x-mpegURL', 'url': 'https://video.twimg.com/ext_tw_video/1576599540886536197/pu/pl/EArZBxZM4gJI35WV.m3u8?tag=12&container=fmp4'}, {'bitrate': 950000, 'content_type': 'video/mp4', 'url': 'https://video.twimg.com/ext_tw_video/1576599540886536197/pu/vid/480x600/cXJzL3ipj9LgrLEG.mp4?tag=12'}, {'bitrate': 632000, 'content_type': 'video/mp4', 'url': 'https://video.twimg.com/ext_tw_video/1576599540886536197/pu/vid/320x400/O-ipQ88r5Yevt5Dl.mp4?tag=12'}]}, 'additional_media_info': {'monetizable': False}}]}, 'source': '<a href=\"https://mobile.twitter.com\" rel=\"nofollow\">Twitter Web App</a>', 'in_reply_to_status_id': None, 'in_reply_to_status_id_str': None, 'in_reply_to_user_id': None, 'in_reply_to_user_id_str': None, 'in_reply_to_screen_name': None, 'user': {'id': 109556877, 'id_str': '109556877', 'name': 'Hespress هسبريس', 'screen_name': 'hespress', 'location': 'المغرب', 'description': 'أول جريدة إلكترونية مغربية تتجدد على مدار الساعة\\n@hespressfr', 'url': 'https://t.co/lCxuKeJ9hC', 'entities': {'url': {'urls': [{'url': 'https://t.co/lCxuKeJ9hC', 'expanded_url': 'http://www.hespress.com', 'display_url': 'hespress.com', 'indices': [0, 23]}]}, 'description': {'urls': []}}, 'protected': False, 'followers_count': 2588617, 'friends_count': 9550, 'listed_count': 1058, 'created_at': 'Fri Jan 29 13:17:51 +0000 2010', 'favourites_count': 712, 'utc_offset': None, 'time_zone': None, 'geo_enabled': False, 'verified': True, 'statuses_count': 251591, 'lang': None, 'contributors_enabled': False, 'is_translator': False, 'is_translation_enabled': False, 'profile_background_color': 'C7DAFC', 'profile_background_image_url': 'http://abs.twimg.com/images/themes/theme1/bg.png', 'profile_background_image_url_https': 'https://abs.twimg.com/images/themes/theme1/bg.png', 'profile_background_tile': False, 'profile_image_url': 'http://pbs.twimg.com/profile_images/1369332051430768648/hFC-oD6t_normal.jpg', 'profile_image_url_https': 'https://pbs.twimg.com/profile_images/1369332051430768648/hFC-oD6t_normal.jpg', 'profile_banner_url': 'https://pbs.twimg.com/profile_banners/109556877/1652017364', 'profile_link_color': '2F84CD', 'profile_sidebar_border_color': 'FFFFFF', 'profile_sidebar_fill_color': 'DDEEF6', 'profile_text_color': '333333', 'profile_use_background_image': False, 'has_extended_profile': False, 'default_profile': False, 'default_profile_image': False, 'following': True, 'follow_request_sent': False, 'notifications': False, 'translator_type': 'regular', 'withheld_in_countries': []}, 'geo': None, 'coordinates': None, 'place': None, 'contributors': None, 'is_quote_status': False, 'retweet_count': 0, 'favorite_count': 9, 'favorited': False, 'retweeted': False, 'possibly_sensitive': False, 'lang': 'ar'}\n",
      "{'created_at': 'Sun Oct 02 15:36:34 +0000 2022', 'id': 1576597012115771392, 'id_str': '1576597012115771392', 'full_text': 'أسفرت العمليات الأمنية التي باشرتها مصالح المنطقة الإقليمية للأمن، على هامش مباراة كرة القدم التي جمعت بين فريقي الوداد الرياضي السرغيني والنادي الرياضي المكناسي، عن توقيف وضبط 14 شخصا للاشتباه في تورطهم في ارتكاب أعمال الشغب.\\n\\n#المغرب #قلعة_السراغنة #كرة_القدم #أعمال_الشغب https://t.co/Y96JpRZW5K', 'truncated': False, 'display_text_range': [0, 274], 'entities': {'hashtags': [{'text': 'المغرب', 'indices': [228, 235]}, {'text': 'قلعة_السراغنة', 'indices': [236, 250]}, {'text': 'كرة_القدم', 'indices': [251, 261]}, {'text': 'أعمال_الشغب', 'indices': [262, 274]}], 'symbols': [], 'user_mentions': [], 'urls': [], 'media': [{'id': 1576596979500589056, 'id_str': '1576596979500589056', 'indices': [275, 298], 'media_url': 'http://pbs.twimg.com/media/FeEymYUWIAA82hv.jpg', 'media_url_https': 'https://pbs.twimg.com/media/FeEymYUWIAA82hv.jpg', 'url': 'https://t.co/Y96JpRZW5K', 'display_url': 'pic.twitter.com/Y96JpRZW5K', 'expanded_url': 'https://twitter.com/hespress/status/1576597012115771392/photo/1', 'type': 'photo', 'sizes': {'large': {'w': 1080, 'h': 1080, 'resize': 'fit'}, 'thumb': {'w': 150, 'h': 150, 'resize': 'crop'}, 'small': {'w': 680, 'h': 680, 'resize': 'fit'}, 'medium': {'w': 1080, 'h': 1080, 'resize': 'fit'}}}]}, 'extended_entities': {'media': [{'id': 1576596979500589056, 'id_str': '1576596979500589056', 'indices': [275, 298], 'media_url': 'http://pbs.twimg.com/media/FeEymYUWIAA82hv.jpg', 'media_url_https': 'https://pbs.twimg.com/media/FeEymYUWIAA82hv.jpg', 'url': 'https://t.co/Y96JpRZW5K', 'display_url': 'pic.twitter.com/Y96JpRZW5K', 'expanded_url': 'https://twitter.com/hespress/status/1576597012115771392/photo/1', 'type': 'photo', 'sizes': {'large': {'w': 1080, 'h': 1080, 'resize': 'fit'}, 'thumb': {'w': 150, 'h': 150, 'resize': 'crop'}, 'small': {'w': 680, 'h': 680, 'resize': 'fit'}, 'medium': {'w': 1080, 'h': 1080, 'resize': 'fit'}}}]}, 'source': '<a href=\"https://mobile.twitter.com\" rel=\"nofollow\">Twitter Web App</a>', 'in_reply_to_status_id': None, 'in_reply_to_status_id_str': None, 'in_reply_to_user_id': None, 'in_reply_to_user_id_str': None, 'in_reply_to_screen_name': None, 'user': {'id': 109556877, 'id_str': '109556877', 'name': 'Hespress هسبريس', 'screen_name': 'hespress', 'location': 'المغرب', 'description': 'أول جريدة إلكترونية مغربية تتجدد على مدار الساعة\\n@hespressfr', 'url': 'https://t.co/lCxuKeJ9hC', 'entities': {'url': {'urls': [{'url': 'https://t.co/lCxuKeJ9hC', 'expanded_url': 'http://www.hespress.com', 'display_url': 'hespress.com', 'indices': [0, 23]}]}, 'description': {'urls': []}}, 'protected': False, 'followers_count': 2588617, 'friends_count': 9550, 'listed_count': 1058, 'created_at': 'Fri Jan 29 13:17:51 +0000 2010', 'favourites_count': 712, 'utc_offset': None, 'time_zone': None, 'geo_enabled': False, 'verified': True, 'statuses_count': 251591, 'lang': None, 'contributors_enabled': False, 'is_translator': False, 'is_translation_enabled': False, 'profile_background_color': 'C7DAFC', 'profile_background_image_url': 'http://abs.twimg.com/images/themes/theme1/bg.png', 'profile_background_image_url_https': 'https://abs.twimg.com/images/themes/theme1/bg.png', 'profile_background_tile': False, 'profile_image_url': 'http://pbs.twimg.com/profile_images/1369332051430768648/hFC-oD6t_normal.jpg', 'profile_image_url_https': 'https://pbs.twimg.com/profile_images/1369332051430768648/hFC-oD6t_normal.jpg', 'profile_banner_url': 'https://pbs.twimg.com/profile_banners/109556877/1652017364', 'profile_link_color': '2F84CD', 'profile_sidebar_border_color': 'FFFFFF', 'profile_sidebar_fill_color': 'DDEEF6', 'profile_text_color': '333333', 'profile_use_background_image': False, 'has_extended_profile': False, 'default_profile': False, 'default_profile_image': False, 'following': True, 'follow_request_sent': False, 'notifications': False, 'translator_type': 'regular', 'withheld_in_countries': []}, 'geo': None, 'coordinates': None, 'place': None, 'contributors': None, 'is_quote_status': False, 'retweet_count': 0, 'favorite_count': 4, 'favorited': False, 'retweeted': False, 'possibly_sensitive': False, 'lang': 'ar'}\n",
      "{'created_at': 'Sun Oct 02 15:28:16 +0000 2022', 'id': 1576594923440439297, 'id_str': '1576594923440439297', 'full_text': 'وزيرة الإسكان السابقة بحكومة خوسي لويس رودريغيز ثاباتيرو، ماريا أنطونيو تروخيو، تقول إن هناك جهلا كبيرا ليس فقط بشأن المغرب الحالي، ولكن أيضًا بتاريخه، وهو ما نتج عنه تزيف تاريخ وجغرافيا وكذلك حاضر البلد.\\n\\n#المغرب #إسبانيا  #الصحراء_المغربية https://t.co/wDsqruoxzr', 'truncated': False, 'display_text_range': [0, 241], 'entities': {'hashtags': [{'text': 'المغرب', 'indices': [206, 213]}, {'text': 'إسبانيا', 'indices': [214, 222]}, {'text': 'الصحراء_المغربية', 'indices': [224, 241]}], 'symbols': [], 'user_mentions': [], 'urls': [], 'media': [{'id': 1576594909921951748, 'id_str': '1576594909921951748', 'indices': [242, 265], 'media_url': 'http://pbs.twimg.com/media/FeEwt6iWQAQioDn.jpg', 'media_url_https': 'https://pbs.twimg.com/media/FeEwt6iWQAQioDn.jpg', 'url': 'https://t.co/wDsqruoxzr', 'display_url': 'pic.twitter.com/wDsqruoxzr', 'expanded_url': 'https://twitter.com/hespress/status/1576594923440439297/photo/1', 'type': 'photo', 'sizes': {'thumb': {'w': 150, 'h': 150, 'resize': 'crop'}, 'small': {'w': 680, 'h': 680, 'resize': 'fit'}, 'large': {'w': 1080, 'h': 1080, 'resize': 'fit'}, 'medium': {'w': 1080, 'h': 1080, 'resize': 'fit'}}}]}, 'extended_entities': {'media': [{'id': 1576594909921951748, 'id_str': '1576594909921951748', 'indices': [242, 265], 'media_url': 'http://pbs.twimg.com/media/FeEwt6iWQAQioDn.jpg', 'media_url_https': 'https://pbs.twimg.com/media/FeEwt6iWQAQioDn.jpg', 'url': 'https://t.co/wDsqruoxzr', 'display_url': 'pic.twitter.com/wDsqruoxzr', 'expanded_url': 'https://twitter.com/hespress/status/1576594923440439297/photo/1', 'type': 'photo', 'sizes': {'thumb': {'w': 150, 'h': 150, 'resize': 'crop'}, 'small': {'w': 680, 'h': 680, 'resize': 'fit'}, 'large': {'w': 1080, 'h': 1080, 'resize': 'fit'}, 'medium': {'w': 1080, 'h': 1080, 'resize': 'fit'}}}]}, 'source': '<a href=\"https://mobile.twitter.com\" rel=\"nofollow\">Twitter Web App</a>', 'in_reply_to_status_id': None, 'in_reply_to_status_id_str': None, 'in_reply_to_user_id': None, 'in_reply_to_user_id_str': None, 'in_reply_to_screen_name': None, 'user': {'id': 109556877, 'id_str': '109556877', 'name': 'Hespress هسبريس', 'screen_name': 'hespress', 'location': 'المغرب', 'description': 'أول جريدة إلكترونية مغربية تتجدد على مدار الساعة\\n@hespressfr', 'url': 'https://t.co/lCxuKeJ9hC', 'entities': {'url': {'urls': [{'url': 'https://t.co/lCxuKeJ9hC', 'expanded_url': 'http://www.hespress.com', 'display_url': 'hespress.com', 'indices': [0, 23]}]}, 'description': {'urls': []}}, 'protected': False, 'followers_count': 2588617, 'friends_count': 9550, 'listed_count': 1058, 'created_at': 'Fri Jan 29 13:17:51 +0000 2010', 'favourites_count': 712, 'utc_offset': None, 'time_zone': None, 'geo_enabled': False, 'verified': True, 'statuses_count': 251591, 'lang': None, 'contributors_enabled': False, 'is_translator': False, 'is_translation_enabled': False, 'profile_background_color': 'C7DAFC', 'profile_background_image_url': 'http://abs.twimg.com/images/themes/theme1/bg.png', 'profile_background_image_url_https': 'https://abs.twimg.com/images/themes/theme1/bg.png', 'profile_background_tile': False, 'profile_image_url': 'http://pbs.twimg.com/profile_images/1369332051430768648/hFC-oD6t_normal.jpg', 'profile_image_url_https': 'https://pbs.twimg.com/profile_images/1369332051430768648/hFC-oD6t_normal.jpg', 'profile_banner_url': 'https://pbs.twimg.com/profile_banners/109556877/1652017364', 'profile_link_color': '2F84CD', 'profile_sidebar_border_color': 'FFFFFF', 'profile_sidebar_fill_color': 'DDEEF6', 'profile_text_color': '333333', 'profile_use_background_image': False, 'has_extended_profile': False, 'default_profile': False, 'default_profile_image': False, 'following': True, 'follow_request_sent': False, 'notifications': False, 'translator_type': 'regular', 'withheld_in_countries': []}, 'geo': None, 'coordinates': None, 'place': None, 'contributors': None, 'is_quote_status': False, 'retweet_count': 25, 'favorite_count': 139, 'favorited': False, 'retweeted': False, 'possibly_sensitive': False, 'lang': 'ar'}\n",
      "{'created_at': 'Sun Oct 02 14:51:21 +0000 2022', 'id': 1576585635074228225, 'id_str': '1576585635074228225', 'full_text': '🔴 عدد المغاربة المستفيدين من التلقيح ضد فيروس كورونا المستجد يصل 24,906,416 شخصا إلى حدود اليوم، وفق النشرة اليومية لوزارة الصحة.\\n\\n#كوفيد_19 #صحة #فيروس #كورونا #covid19 #كورونا_المغرب #المغرب https://t.co/grWnz5O3pi', 'truncated': False, 'display_text_range': [0, 192], 'entities': {'hashtags': [{'text': 'كوفيد_19', 'indices': [131, 140]}, {'text': 'صحة', 'indices': [141, 145]}, {'text': 'فيروس', 'indices': [146, 152]}, {'text': 'كورونا', 'indices': [153, 160]}, {'text': 'covid19', 'indices': [161, 169]}, {'text': 'كورونا_المغرب', 'indices': [170, 184]}, {'text': 'المغرب', 'indices': [185, 192]}], 'symbols': [], 'user_mentions': [], 'urls': [], 'media': [{'id': 1576585615574982658, 'id_str': '1576585615574982658', 'indices': [193, 216], 'media_url': 'http://pbs.twimg.com/media/FeEoQ6ZWYAI_EvB.jpg', 'media_url_https': 'https://pbs.twimg.com/media/FeEoQ6ZWYAI_EvB.jpg', 'url': 'https://t.co/grWnz5O3pi', 'display_url': 'pic.twitter.com/grWnz5O3pi', 'expanded_url': 'https://twitter.com/hespress/status/1576585635074228225/photo/1', 'type': 'photo', 'sizes': {'thumb': {'w': 150, 'h': 150, 'resize': 'crop'}, 'large': {'w': 1080, 'h': 1080, 'resize': 'fit'}, 'small': {'w': 680, 'h': 680, 'resize': 'fit'}, 'medium': {'w': 1080, 'h': 1080, 'resize': 'fit'}}}]}, 'extended_entities': {'media': [{'id': 1576585615574982658, 'id_str': '1576585615574982658', 'indices': [193, 216], 'media_url': 'http://pbs.twimg.com/media/FeEoQ6ZWYAI_EvB.jpg', 'media_url_https': 'https://pbs.twimg.com/media/FeEoQ6ZWYAI_EvB.jpg', 'url': 'https://t.co/grWnz5O3pi', 'display_url': 'pic.twitter.com/grWnz5O3pi', 'expanded_url': 'https://twitter.com/hespress/status/1576585635074228225/photo/1', 'type': 'photo', 'sizes': {'thumb': {'w': 150, 'h': 150, 'resize': 'crop'}, 'large': {'w': 1080, 'h': 1080, 'resize': 'fit'}, 'small': {'w': 680, 'h': 680, 'resize': 'fit'}, 'medium': {'w': 1080, 'h': 1080, 'resize': 'fit'}}}]}, 'source': '<a href=\"https://mobile.twitter.com\" rel=\"nofollow\">Twitter Web App</a>', 'in_reply_to_status_id': None, 'in_reply_to_status_id_str': None, 'in_reply_to_user_id': None, 'in_reply_to_user_id_str': None, 'in_reply_to_screen_name': None, 'user': {'id': 109556877, 'id_str': '109556877', 'name': 'Hespress هسبريس', 'screen_name': 'hespress', 'location': 'المغرب', 'description': 'أول جريدة إلكترونية مغربية تتجدد على مدار الساعة\\n@hespressfr', 'url': 'https://t.co/lCxuKeJ9hC', 'entities': {'url': {'urls': [{'url': 'https://t.co/lCxuKeJ9hC', 'expanded_url': 'http://www.hespress.com', 'display_url': 'hespress.com', 'indices': [0, 23]}]}, 'description': {'urls': []}}, 'protected': False, 'followers_count': 2588617, 'friends_count': 9550, 'listed_count': 1058, 'created_at': 'Fri Jan 29 13:17:51 +0000 2010', 'favourites_count': 712, 'utc_offset': None, 'time_zone': None, 'geo_enabled': False, 'verified': True, 'statuses_count': 251591, 'lang': None, 'contributors_enabled': False, 'is_translator': False, 'is_translation_enabled': False, 'profile_background_color': 'C7DAFC', 'profile_background_image_url': 'http://abs.twimg.com/images/themes/theme1/bg.png', 'profile_background_image_url_https': 'https://abs.twimg.com/images/themes/theme1/bg.png', 'profile_background_tile': False, 'profile_image_url': 'http://pbs.twimg.com/profile_images/1369332051430768648/hFC-oD6t_normal.jpg', 'profile_image_url_https': 'https://pbs.twimg.com/profile_images/1369332051430768648/hFC-oD6t_normal.jpg', 'profile_banner_url': 'https://pbs.twimg.com/profile_banners/109556877/1652017364', 'profile_link_color': '2F84CD', 'profile_sidebar_border_color': 'FFFFFF', 'profile_sidebar_fill_color': 'DDEEF6', 'profile_text_color': '333333', 'profile_use_background_image': False, 'has_extended_profile': False, 'default_profile': False, 'default_profile_image': False, 'following': True, 'follow_request_sent': False, 'notifications': False, 'translator_type': 'regular', 'withheld_in_countries': []}, 'geo': None, 'coordinates': None, 'place': None, 'contributors': None, 'is_quote_status': False, 'retweet_count': 0, 'favorite_count': 5, 'favorited': False, 'retweeted': False, 'possibly_sensitive': False, 'lang': 'ar'}\n",
      "{'created_at': 'Sun Oct 02 14:50:08 +0000 2022', 'id': 1576585329695690752, 'id_str': '1576585329695690752', 'full_text': '🔴 وزارة الصحة تعلن عن تسجيل 11 إصابة جديدة بفيروس كورونا (كوفيد-19) في آخر 24 ساعة بالمغرب.. حالات الشفاء ترتفع إلى 1,248,580 مقابل 16,278 حالة وفاة.\\n\\n#كوفيد_19 #صحة #فيروس #كورونا #covid19 #كورونا_المغرب #المغرب https://t.co/q60SHU8BM6', 'truncated': False, 'display_text_range': [0, 212], 'entities': {'hashtags': [{'text': 'كوفيد_19', 'indices': [151, 160]}, {'text': 'صحة', 'indices': [161, 165]}, {'text': 'فيروس', 'indices': [166, 172]}, {'text': 'كورونا', 'indices': [173, 180]}, {'text': 'covid19', 'indices': [181, 189]}, {'text': 'كورونا_المغرب', 'indices': [190, 204]}, {'text': 'المغرب', 'indices': [205, 212]}], 'symbols': [], 'user_mentions': [], 'urls': [], 'media': [{'id': 1576585317141946370, 'id_str': '1576585317141946370', 'indices': [213, 236], 'media_url': 'http://pbs.twimg.com/media/FeEn_ipXoAIgCVd.jpg', 'media_url_https': 'https://pbs.twimg.com/media/FeEn_ipXoAIgCVd.jpg', 'url': 'https://t.co/q60SHU8BM6', 'display_url': 'pic.twitter.com/q60SHU8BM6', 'expanded_url': 'https://twitter.com/hespress/status/1576585329695690752/photo/1', 'type': 'photo', 'sizes': {'thumb': {'w': 150, 'h': 150, 'resize': 'crop'}, 'medium': {'w': 1080, 'h': 1080, 'resize': 'fit'}, 'large': {'w': 1080, 'h': 1080, 'resize': 'fit'}, 'small': {'w': 680, 'h': 680, 'resize': 'fit'}}}]}, 'extended_entities': {'media': [{'id': 1576585317141946370, 'id_str': '1576585317141946370', 'indices': [213, 236], 'media_url': 'http://pbs.twimg.com/media/FeEn_ipXoAIgCVd.jpg', 'media_url_https': 'https://pbs.twimg.com/media/FeEn_ipXoAIgCVd.jpg', 'url': 'https://t.co/q60SHU8BM6', 'display_url': 'pic.twitter.com/q60SHU8BM6', 'expanded_url': 'https://twitter.com/hespress/status/1576585329695690752/photo/1', 'type': 'photo', 'sizes': {'thumb': {'w': 150, 'h': 150, 'resize': 'crop'}, 'medium': {'w': 1080, 'h': 1080, 'resize': 'fit'}, 'large': {'w': 1080, 'h': 1080, 'resize': 'fit'}, 'small': {'w': 680, 'h': 680, 'resize': 'fit'}}}]}, 'source': '<a href=\"https://mobile.twitter.com\" rel=\"nofollow\">Twitter Web App</a>', 'in_reply_to_status_id': None, 'in_reply_to_status_id_str': None, 'in_reply_to_user_id': None, 'in_reply_to_user_id_str': None, 'in_reply_to_screen_name': None, 'user': {'id': 109556877, 'id_str': '109556877', 'name': 'Hespress هسبريس', 'screen_name': 'hespress', 'location': 'المغرب', 'description': 'أول جريدة إلكترونية مغربية تتجدد على مدار الساعة\\n@hespressfr', 'url': 'https://t.co/lCxuKeJ9hC', 'entities': {'url': {'urls': [{'url': 'https://t.co/lCxuKeJ9hC', 'expanded_url': 'http://www.hespress.com', 'display_url': 'hespress.com', 'indices': [0, 23]}]}, 'description': {'urls': []}}, 'protected': False, 'followers_count': 2588617, 'friends_count': 9550, 'listed_count': 1058, 'created_at': 'Fri Jan 29 13:17:51 +0000 2010', 'favourites_count': 712, 'utc_offset': None, 'time_zone': None, 'geo_enabled': False, 'verified': True, 'statuses_count': 251591, 'lang': None, 'contributors_enabled': False, 'is_translator': False, 'is_translation_enabled': False, 'profile_background_color': 'C7DAFC', 'profile_background_image_url': 'http://abs.twimg.com/images/themes/theme1/bg.png', 'profile_background_image_url_https': 'https://abs.twimg.com/images/themes/theme1/bg.png', 'profile_background_tile': False, 'profile_image_url': 'http://pbs.twimg.com/profile_images/1369332051430768648/hFC-oD6t_normal.jpg', 'profile_image_url_https': 'https://pbs.twimg.com/profile_images/1369332051430768648/hFC-oD6t_normal.jpg', 'profile_banner_url': 'https://pbs.twimg.com/profile_banners/109556877/1652017364', 'profile_link_color': '2F84CD', 'profile_sidebar_border_color': 'FFFFFF', 'profile_sidebar_fill_color': 'DDEEF6', 'profile_text_color': '333333', 'profile_use_background_image': False, 'has_extended_profile': False, 'default_profile': False, 'default_profile_image': False, 'following': True, 'follow_request_sent': False, 'notifications': False, 'translator_type': 'regular', 'withheld_in_countries': []}, 'geo': None, 'coordinates': None, 'place': None, 'contributors': None, 'is_quote_status': False, 'retweet_count': 0, 'favorite_count': 1, 'favorited': False, 'retweeted': False, 'possibly_sensitive': False, 'lang': 'ar'}\n"
     ]
    }
   ],
   "source": [
    "for i in cursor:\n",
    "    print(i._json)"
   ]
  },
  {
   "cell_type": "code",
   "execution_count": 14,
   "id": "8465d203",
   "metadata": {},
   "outputs": [
    {
     "name": "stderr",
     "output_type": "stream",
     "text": [
      "Unexpected parameter: id\n"
     ]
    }
   ],
   "source": [
    "number_of_tweets=10\n",
    "tweet_ids = []\n",
    "tweets=[]\n",
    "likesCount=[]\n",
    "time=[]\n",
    "views=[]\n",
    "retweetCount=[]\n",
    "views = []\n",
    "types = []\n",
    "durations = []\n",
    "for i in tweepy.Cursor(api.user_timeline,id=username,tweet_mode=\"extended\").items(number_of_tweets):\n",
    "    if i.extended_entities[\"media\"][0][\"type\"] == 'video':\n",
    "        tweets.append(i.full_text)\n",
    "        likesCount.append(i.favorite_count)\n",
    "        time.append(i.created_at)\n",
    "        retweetCount.append(i.retweet_count)\n",
    "        tweet_ids.append(i.id)\n",
    "        types.append(i.extended_entities[\"media\"][0][\"type\"])\n",
    "        du=i.extended_entities[\"media\"][0][\"video_info\"][\"duration_millis\"]\n",
    "        du2=du/1000\n",
    "        durations.append(du2)\n",
    "        df = pd.DataFrame({'tweets':tweets,'likes':likesCount,'time':time   ,'tweet_ids':tweet_ids,'retweet_count':retweetCount,'types':types,'durations':durations})\n"
   ]
  },
  {
   "cell_type": "code",
   "execution_count": 15,
   "id": "144083ab",
   "metadata": {},
   "outputs": [
    {
     "data": {
      "text/html": [
       "<div>\n",
       "<style scoped>\n",
       "    .dataframe tbody tr th:only-of-type {\n",
       "        vertical-align: middle;\n",
       "    }\n",
       "\n",
       "    .dataframe tbody tr th {\n",
       "        vertical-align: top;\n",
       "    }\n",
       "\n",
       "    .dataframe thead th {\n",
       "        text-align: right;\n",
       "    }\n",
       "</style>\n",
       "<table border=\"1\" class=\"dataframe\">\n",
       "  <thead>\n",
       "    <tr style=\"text-align: right;\">\n",
       "      <th></th>\n",
       "      <th>tweets</th>\n",
       "      <th>likes</th>\n",
       "      <th>time</th>\n",
       "      <th>tweet_ids</th>\n",
       "      <th>retweet_count</th>\n",
       "      <th>types</th>\n",
       "      <th>durations</th>\n",
       "    </tr>\n",
       "  </thead>\n",
       "  <tbody>\n",
       "    <tr>\n",
       "      <th>0</th>\n",
       "      <td>بعدما نشر فيديو يدعو إلى التصويت لليميني بولسو...</td>\n",
       "      <td>4</td>\n",
       "      <td>2022-10-02 17:04:00+00:00</td>\n",
       "      <td>1576619016407248896</td>\n",
       "      <td>1</td>\n",
       "      <td>video</td>\n",
       "      <td>37.771</td>\n",
       "    </tr>\n",
       "    <tr>\n",
       "      <th>1</th>\n",
       "      <td>وزيرة الإسكانِ الإسبانية السابقة تؤكد أن الصحر...</td>\n",
       "      <td>17</td>\n",
       "      <td>2022-10-02 16:29:43+00:00</td>\n",
       "      <td>1576610389508648960</td>\n",
       "      <td>0</td>\n",
       "      <td>video</td>\n",
       "      <td>138.805</td>\n",
       "    </tr>\n",
       "  </tbody>\n",
       "</table>\n",
       "</div>"
      ],
      "text/plain": [
       "                                              tweets  likes  \\\n",
       "0  بعدما نشر فيديو يدعو إلى التصويت لليميني بولسو...      4   \n",
       "1  وزيرة الإسكانِ الإسبانية السابقة تؤكد أن الصحر...     17   \n",
       "\n",
       "                       time            tweet_ids  retweet_count  types  \\\n",
       "0 2022-10-02 17:04:00+00:00  1576619016407248896              1  video   \n",
       "1 2022-10-02 16:29:43+00:00  1576610389508648960              0  video   \n",
       "\n",
       "   durations  \n",
       "0     37.771  \n",
       "1    138.805  "
      ]
     },
     "execution_count": 15,
     "metadata": {},
     "output_type": "execute_result"
    }
   ],
   "source": [
    "df"
   ]
  },
  {
   "cell_type": "code",
   "execution_count": 42,
   "id": "fbfc4647",
   "metadata": {},
   "outputs": [
    {
     "name": "stdout",
     "output_type": "stream",
     "text": [
      "1\n",
      "2\n",
      "3\n",
      "4\n"
     ]
    }
   ],
   "source": [
    "tweet_comments = []\n",
    "for j in range(len(tweet_ids)):\n",
    "    tweet_id = tweet_ids[j]\n",
    "    t = api.search_tweets(q=f'to:{username}', since_id=tweet_id,)\n",
    "    replies = 0\n",
    "    for i in range(len(t)):\n",
    "        if t[i].in_reply_to_status_id == tweet_id:\n",
    "            replies += 1\n",
    "            print(replies)\n",
    "    tweet_comments.append(replies)"
   ]
  },
  {
   "cell_type": "code",
   "execution_count": 43,
   "id": "4520c9a6",
   "metadata": {},
   "outputs": [
    {
     "data": {
      "text/plain": [
       "[0, 4]"
      ]
     },
     "execution_count": 43,
     "metadata": {},
     "output_type": "execute_result"
    }
   ],
   "source": [
    "tweet_comments"
   ]
  },
  {
   "cell_type": "code",
   "execution_count": 44,
   "id": "24850c32",
   "metadata": {},
   "outputs": [],
   "source": [
    "def get_tweet_thread(username,tweet_id):\n",
    "    replies = tweepy.Cursor(api.search_tweets, q='to:{}'.format(username),since_id=tweet_id, tweet_mode='extended').items()\n",
    "    replied_thread = list()\n",
    "    for reply in replies:\n",
    "        if(reply._json['in_reply_to_status_id'] == tweet_id):\n",
    "             replied_thread.append(reply._json['full_text'])\n",
    "        \n",
    "    return(replied_thread)"
   ]
  },
  {
   "cell_type": "code",
   "execution_count": 45,
   "id": "ce5661d8",
   "metadata": {},
   "outputs": [],
   "source": [
    "comments=[]\n",
    "comments =get_tweet_thread(\"Hespress\",1573596717378830339)"
   ]
  },
  {
   "cell_type": "code",
   "execution_count": 53,
   "id": "905b3bcd",
   "metadata": {},
   "outputs": [],
   "source": [
    "df = pd.DataFrame (comments, columns = ['comments'])"
   ]
  },
  {
   "cell_type": "code",
   "execution_count": 54,
   "id": "2bacafa1",
   "metadata": {},
   "outputs": [
    {
     "data": {
      "text/html": [
       "<div>\n",
       "<style scoped>\n",
       "    .dataframe tbody tr th:only-of-type {\n",
       "        vertical-align: middle;\n",
       "    }\n",
       "\n",
       "    .dataframe tbody tr th {\n",
       "        vertical-align: top;\n",
       "    }\n",
       "\n",
       "    .dataframe thead th {\n",
       "        text-align: right;\n",
       "    }\n",
       "</style>\n",
       "<table border=\"1\" class=\"dataframe\">\n",
       "  <thead>\n",
       "    <tr style=\"text-align: right;\">\n",
       "      <th></th>\n",
       "      <th>comments</th>\n",
       "    </tr>\n",
       "  </thead>\n",
       "  <tbody>\n",
       "    <tr>\n",
       "      <th>0</th>\n",
       "      <td>@hespress hhhhhhhhhhhhhhhhhhh</td>\n",
       "    </tr>\n",
       "    <tr>\n",
       "      <th>1</th>\n",
       "      <td>@hespress hhhhhhhhhhhh</td>\n",
       "    </tr>\n",
       "    <tr>\n",
       "      <th>2</th>\n",
       "      <td>@hespress 🍋</td>\n",
       "    </tr>\n",
       "    <tr>\n",
       "      <th>3</th>\n",
       "      <td>@hespress Bon courage coach et Bonne continuat...</td>\n",
       "    </tr>\n",
       "  </tbody>\n",
       "</table>\n",
       "</div>"
      ],
      "text/plain": [
       "                                            comments\n",
       "0                      @hespress hhhhhhhhhhhhhhhhhhh\n",
       "1                             @hespress hhhhhhhhhhhh\n",
       "2                                        @hespress 🍋\n",
       "3  @hespress Bon courage coach et Bonne continuat..."
      ]
     },
     "execution_count": 54,
     "metadata": {},
     "output_type": "execute_result"
    }
   ],
   "source": [
    "df"
   ]
  },
  {
   "cell_type": "code",
   "execution_count": null,
   "id": "26917738",
   "metadata": {},
   "outputs": [],
   "source": []
  }
 ],
 "metadata": {
  "kernelspec": {
   "display_name": "Python 3 (ipykernel)",
   "language": "python",
   "name": "python3"
  },
  "language_info": {
   "codemirror_mode": {
    "name": "ipython",
    "version": 3
   },
   "file_extension": ".py",
   "mimetype": "text/x-python",
   "name": "python",
   "nbconvert_exporter": "python",
   "pygments_lexer": "ipython3",
   "version": "3.10.7"
  }
 },
 "nbformat": 4,
 "nbformat_minor": 5
}
